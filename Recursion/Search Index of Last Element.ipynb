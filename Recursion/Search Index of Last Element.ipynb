{
 "cells": [
  {
   "cell_type": "code",
   "execution_count": 2,
   "metadata": {},
   "outputs": [],
   "source": [
    "def lastIndex(a,x):\n",
    "    l=len(a)\n",
    "    if l == 0:\n",
    "        return -1\n",
    "    smallerList = a[1:]\n",
    "    smallerListOutput = lastIndex(smallerList,x)\n",
    "    if smallerListOutput != -1:\n",
    "        return smallerListOutput+1\n",
    "    else:\n",
    "        if a[0] == x:\n",
    "            return 0\n",
    "        else:\n",
    "            return -1"
   ]
  },
  {
   "cell_type": "code",
   "execution_count": 3,
   "metadata": {},
   "outputs": [
    {
     "data": {
      "text/plain": [
       "3"
      ]
     },
     "execution_count": 3,
     "metadata": {},
     "output_type": "execute_result"
    }
   ],
   "source": [
    "arr=[1,4,3,4,7]\n",
    "target=4\n",
    "lastIndex(arr,target)"
   ]
  },
  {
   "cell_type": "code",
   "execution_count": 14,
   "metadata": {},
   "outputs": [],
   "source": [
    "def lastIndexB(a,x,si):\n",
    "    l=len(a)\n",
    "    if si == l:\n",
    "        return -1\n",
    "    \n",
    "    smallerListOutput = lastIndexB(a,x,si+1)\n",
    "    if smallerListOutput != -1:\n",
    "        return smallerListOutput\n",
    "    else:\n",
    "        if a[si]==x:\n",
    "            return si\n",
    "        else:\n",
    "            return -1"
   ]
  },
  {
   "cell_type": "code",
   "execution_count": 15,
   "metadata": {},
   "outputs": [
    {
     "data": {
      "text/plain": [
       "3"
      ]
     },
     "execution_count": 15,
     "metadata": {},
     "output_type": "execute_result"
    }
   ],
   "source": [
    "arr=[1,4,3,4,7]\n",
    "target=4\n",
    "lastIndexB(arr,target,0)"
   ]
  },
  {
   "cell_type": "code",
   "execution_count": null,
   "metadata": {},
   "outputs": [],
   "source": []
  }
 ],
 "metadata": {
  "kernelspec": {
   "display_name": "Python 3",
   "language": "python",
   "name": "python3"
  },
  "language_info": {
   "codemirror_mode": {
    "name": "ipython",
    "version": 3
   },
   "file_extension": ".py",
   "mimetype": "text/x-python",
   "name": "python",
   "nbconvert_exporter": "python",
   "pygments_lexer": "ipython3",
   "version": "3.8.3"
  }
 },
 "nbformat": 4,
 "nbformat_minor": 4
}
